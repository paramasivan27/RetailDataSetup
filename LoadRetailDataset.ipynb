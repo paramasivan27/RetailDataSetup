{
 "cells": [
  {
   "cell_type": "code",
   "execution_count": 1,
   "id": "3bb6deb0-3eb0-49ea-ac2c-7d241c5860f2",
   "metadata": {},
   "outputs": [
    {
     "name": "stdout",
     "output_type": "stream",
     "text": [
      "Collecting psycopg2\n",
      "  Downloading psycopg2-2.9.10.tar.gz (385 kB)\n",
      "\u001b[2K     \u001b[90m━━━━━━━━━━━━━━━━━━━━━━━━━━━━━━━━━━━━━━━\u001b[0m \u001b[32m385.7/385.7 kB\u001b[0m \u001b[31m4.8 MB/s\u001b[0m eta \u001b[36m0:00:00\u001b[0m00:01\u001b[0m00:01\u001b[0m\n",
      "\u001b[?25h  Preparing metadata (setup.py) ... \u001b[?25ldone\n",
      "\u001b[?25hBuilding wheels for collected packages: psycopg2\n",
      "  Building wheel for psycopg2 (setup.py) ... \u001b[?25ldone\n",
      "\u001b[?25h  Created wheel for psycopg2: filename=psycopg2-2.9.10-cp312-cp312-macosx_11_0_arm64.whl size=133407 sha256=1c2cf1cad22b30676c4e8a41efdba70c3c8c44bbe821cc3af6312b8ec5b9e633\n",
      "  Stored in directory: /Users/paramasivandorai/Library/Caches/pip/wheels/ac/bb/ce/afa589c50b6004d3a06fc691e71bd09c9bd5f01e5921e5329b\n",
      "Successfully built psycopg2\n",
      "Installing collected packages: psycopg2\n",
      "Successfully installed psycopg2-2.9.10\n"
     ]
    }
   ],
   "source": [
    "!pip install psycopg2"
   ]
  },
  {
   "cell_type": "code",
   "execution_count": 9,
   "id": "c021fdd4-34ec-4aeb-a038-16cbd70f8b76",
   "metadata": {},
   "outputs": [],
   "source": [
    "import psycopg2\n",
    "import pandas as pd\n",
    "\n",
    "# Load the CSV data into a pandas DataFrame\n",
    "df = pd.read_csv('/Users/paramasivandorai/desktop/Personal Projects/RetailDataset/Category.csv')\n",
    "\n",
    "# Connect to PostgreSQL\n",
    "conn = psycopg2.connect(\n",
    "    dbname=\"postgres\",\n",
    "    user=\"postgres\",\n",
    "    password=\"P0stGr3sM6ntr6\",\n",
    "    host=\"localhost\",\n",
    "    port=\"5432\"\n",
    ")\n",
    "cursor = conn.cursor()\n",
    "\n",
    "# Insert data into the Category table\n",
    "for _, row in df.iterrows():\n",
    "    cursor.execute(\n",
    "        \"INSERT INTO Category (category_id, category_name, comment) VALUES (%s, %s, %s)\",\n",
    "        (row['category_id'], row['category_name'], row['comment'])\n",
    "    )\n",
    "\n",
    "# Commit the transaction and close the connection\n",
    "conn.commit()\n",
    "cursor.close()\n",
    "conn.close()"
   ]
  },
  {
   "cell_type": "code",
   "execution_count": 23,
   "id": "6ae42449-8871-46ae-a714-20eda1a21c20",
   "metadata": {},
   "outputs": [],
   "source": [
    "import random\n",
    "# Load the CSV data into a DataFrame\n",
    "df_product = pd.read_csv('/Users/paramasivandorai/desktop/Personal Projects/RetailDataset/Product.csv')\n",
    "\n",
    "# Categories and their associated ranges\n",
    "category_ranges = {\n",
    "    \"range_10_100\": [1000, 1003, 1004, 1006, 1007, 1020],\n",
    "    \"range_1000_20000\": [1001, 1010, 1011, 1016, 1012, 1017, 1018],\n",
    "    \"range_100_5000\": [1002, 1008, 1014, 1007, 1009, 1020, 1019]\n",
    "}\n",
    "\n",
    "# Set average_cost based on category ranges\n",
    "def set_average_cost(row):\n",
    "    if row['category_id'] in category_ranges[\"range_10_100\"]:\n",
    "        return round(random.uniform(10, 100), 2)\n",
    "    elif row['category_id'] in category_ranges[\"range_1000_20000\"]:\n",
    "        return round(random.uniform(1000, 20000), 2)\n",
    "    elif row['category_id'] in category_ranges[\"range_100_5000\"]:\n",
    "        return round(random.uniform(100, 5000), 2)\n",
    "    else:\n",
    "        return round(random.uniform(100, 2000), 2)\n",
    "\n",
    "# Calculate the unit_retail with a 70% markup\n",
    "def calculate_unit_retail(average_cost):\n",
    "    markup_price = average_cost * 1.70  # Apply a 70% markup\n",
    "    return round(markup_price * 4) / 4  # Round to nearest 0.05 (common tender value)\n",
    "\n",
    "# Apply the functions to set average_cost and calculate unit_retail\n",
    "df_product['average_cost'] = df_product.apply(set_average_cost, axis=1)\n",
    "df_product['unit_retail'] = df_product['average_cost'].apply(calculate_unit_retail)\n",
    "\n",
    "conn = psycopg2.connect(\n",
    "    dbname=\"postgres\",\n",
    "    user=\"postgres\",\n",
    "    password=\"P0stGr3sM6ntr6\",\n",
    "    host=\"localhost\",\n",
    "    port=\"5432\"\n",
    ")\n",
    "\n",
    "cursor = conn.cursor()\n",
    "\n",
    "# Insert data into the Product table\n",
    "for _, row in df_product.iterrows():\n",
    "    cursor.execute(\n",
    "        \"\"\"\n",
    "        INSERT INTO Product (product_id, product_title, product_description, category_id, average_cost, unit_retail, promotional_price)\n",
    "        VALUES (%s, %s, %s, %s, %s, %s, %s)\n",
    "        \"\"\",\n",
    "        (row['product_id'], row['product_title'], row['product_description'], row['category_id'], row['average_cost'], row['unit_retail'], row['promotional_price'])\n",
    "    )\n",
    "\n",
    "# Commit the transaction and close the connection\n",
    "conn.commit()\n",
    "cursor.close()\n",
    "conn.close()"
   ]
  }
 ],
 "metadata": {
  "kernelspec": {
   "display_name": "Python 3 (ipykernel)",
   "language": "python",
   "name": "python3"
  },
  "language_info": {
   "codemirror_mode": {
    "name": "ipython",
    "version": 3
   },
   "file_extension": ".py",
   "mimetype": "text/x-python",
   "name": "python",
   "nbconvert_exporter": "python",
   "pygments_lexer": "ipython3",
   "version": "3.12.4"
  }
 },
 "nbformat": 4,
 "nbformat_minor": 5
}
